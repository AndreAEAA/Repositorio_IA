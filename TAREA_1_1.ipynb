{
  "nbformat": 4,
  "nbformat_minor": 0,
  "metadata": {
    "colab": {
      "provenance": [],
      "authorship_tag": "ABX9TyNw3LVa1K+TNSIKLB+1Eh2O",
      "include_colab_link": true
    },
    "kernelspec": {
      "name": "python3",
      "display_name": "Python 3"
    },
    "language_info": {
      "name": "python"
    }
  },
  "cells": [
    {
      "cell_type": "markdown",
      "metadata": {
        "id": "view-in-github",
        "colab_type": "text"
      },
      "source": [
        "<a href=\"https://colab.research.google.com/github/AndreAEAA/Repositorio_IA/blob/main/TAREA_1_1.ipynb\" target=\"_parent\"><img src=\"https://colab.research.google.com/assets/colab-badge.svg\" alt=\"Open In Colab\"/></a>"
      ]
    },
    {
      "cell_type": "code",
      "execution_count": null,
      "metadata": {
        "colab": {
          "base_uri": "https://localhost:8080/"
        },
        "id": "y0FT0BOWMvws",
        "outputId": "8e8fc87b-317e-47a3-84b9-1354820994bd"
      },
      "outputs": [
        {
          "output_type": "stream",
          "name": "stdout",
          "text": [
            "El número mayor es: 100\n"
          ]
        }
      ],
      "source": [
        "#Ejercicio 1\n",
        "#Cree un programa que reciba una lista de números y devuelva el número mayor sin usar la función max()\n",
        "\n",
        "def numero_mayor(lista):\n",
        "    if not lista:\n",
        "        return None\n",
        "    mayor = lista[0]\n",
        "    for numero in lista:\n",
        "        if numero > mayor:\n",
        "            mayor = numero\n",
        "    return mayor\n",
        "\n",
        "# Ejemplo de uso\n",
        "numeros = [20,]\n",
        "print(\"El número mayor es:\", numero_mayor(numeros))\n",
        "\n"
      ]
    },
    {
      "cell_type": "code",
      "source": [
        "#Ejercicio 2\n",
        "n = int(input(\"Ingrese el número: \"))\n",
        "\n",
        "print(f\"\\n La de multiplicar del {n}:\")\n",
        "for i in range(1, 13):\n",
        "    resultado = n * i\n",
        "    print(f\"{n} x {i} = {resultado}\")\n"
      ],
      "metadata": {
        "colab": {
          "base_uri": "https://localhost:8080/"
        },
        "id": "SDVlRMyaZnZd",
        "outputId": "b989ce31-92d6-40ee-cdb8-7799b93c219f"
      },
      "execution_count": null,
      "outputs": [
        {
          "output_type": "stream",
          "name": "stdout",
          "text": [
            "Ingrese el número: 2\n",
            "\n",
            " La de multiplicar del 2:\n",
            "2 x 1 = 2\n",
            "2 x 2 = 4\n",
            "2 x 3 = 6\n",
            "2 x 4 = 8\n",
            "2 x 5 = 10\n",
            "2 x 6 = 12\n",
            "2 x 7 = 14\n",
            "2 x 8 = 16\n",
            "2 x 9 = 18\n",
            "2 x 10 = 20\n",
            "2 x 11 = 22\n",
            "2 x 12 = 24\n"
          ]
        }
      ]
    },
    {
      "cell_type": "code",
      "source": [
        "#Ejercicio 3 Cree un programa que elimine los elementos repetidos de una lista y devuelva una nueva lista con elementos únicos ordenados.\n",
        "\n",
        "def eliminar (lista):\n",
        "    lista_unica = []\n",
        "    for elemento in lista:\n",
        "        if elemento not in lista_unica:\n",
        "            lista_unica.append(elemento)\n",
        "    return sorted(lista_unica)\n",
        "\n",
        "# Ejemplo de uso\n",
        "lista = [5, 2, 9, 5, 1, 2, 8, 9]\n",
        "resultado = eliminar (lista)\n",
        "print(\"Lista sin repetidos y ordenada:\", resultado)\n"
      ],
      "metadata": {
        "colab": {
          "base_uri": "https://localhost:8080/"
        },
        "id": "iAAvs460aHMb",
        "outputId": "74100637-32c3-4a99-8a17-9d89d865d6c3"
      },
      "execution_count": null,
      "outputs": [
        {
          "output_type": "stream",
          "name": "stdout",
          "text": [
            "Lista sin repetidos y ordenada: [1, 2, 5, 8, 9]\n"
          ]
        }
      ]
    },
    {
      "cell_type": "code",
      "source": [
        "# Ejercicio 4 Escriba un programa que solicite ingresar el nombre de varios\n",
        "# estudiantes y su nota, y lo almacene en un diccionario. Al final, muestra los datos almacenados.\n",
        "\n",
        "\n",
        "estudiantes = {}\n",
        "\n",
        "while True:\n",
        "    nombre = input(\"Ingresa el nombre del estudiante (o escribe 'fin' para terminar): \")\n",
        "    if nombre.lower() == 'fin':\n",
        "        break\n",
        "    try:\n",
        "        nota = float(input(f\"Ingrese la nota de {nombre}: \"))\n",
        "        estudiantes[nombre] = nota\n",
        "    except ValueError:\n",
        "        print(\"Por favor, ingresa una nota válida (número).\")\n",
        "\n",
        "print(\"\\nDatos de los estudiantes:\")\n",
        "for nombre, nota in estudiantes.items():\n",
        "    print(f\"{nombre}: {nota}\")\n"
      ],
      "metadata": {
        "colab": {
          "base_uri": "https://localhost:8080/"
        },
        "id": "FYxffFcdd5I-",
        "outputId": "1329b131-ddf5-4ac0-8070-8ee8ffe885c8"
      },
      "execution_count": null,
      "outputs": [
        {
          "output_type": "stream",
          "name": "stdout",
          "text": [
            "Ingresa el nombre del estudiante (o escribe 'fin' para terminar): fanny\n",
            "Ingrese la nota de fanny: 78\n",
            "Ingresa el nombre del estudiante (o escribe 'fin' para terminar): gaby\n",
            "Ingrese la nota de gaby: 56\n",
            "Ingresa el nombre del estudiante (o escribe 'fin' para terminar): fin\n",
            "\n",
            "Datos de los estudiantes:\n",
            "fanny: 78.0\n",
            "gaby: 56.0\n"
          ]
        }
      ]
    },
    {
      "cell_type": "code",
      "source": [
        "\n",
        "\n",
        "#Ejercicio 5\n",
        "ventas = {\n",
        "    'Producto': ['A', 'B', 'A', 'C', 'B', 'A'],\n",
        "    'Cantidad': [10, 5, 7, 3, 2, 8]\n",
        "}\n",
        "\n",
        "suma = {}\n",
        "\n",
        "for a in range(len(ventas['Producto'])):\n",
        "    producto = ventas['Producto'][a]\n",
        "    cantidad = ventas['Cantidad'][a]\n",
        "    if producto in suma:\n",
        "        suma[producto] += cantidad\n",
        "    else:\n",
        "        suma[producto] = cantidad\n",
        "\n",
        "print(\"\\n Venta total:\")\n",
        "print(suma)\n"
      ],
      "metadata": {
        "colab": {
          "base_uri": "https://localhost:8080/"
        },
        "id": "xBG2PUUGUZ1D",
        "outputId": "09380a38-c93f-49fc-cddf-199a16944ba5"
      },
      "execution_count": 2,
      "outputs": [
        {
          "output_type": "stream",
          "name": "stdout",
          "text": [
            "\n",
            " Venta total:\n",
            "{'A': 25, 'B': 7, 'C': 3}\n"
          ]
        }
      ]
    }
  ]
}